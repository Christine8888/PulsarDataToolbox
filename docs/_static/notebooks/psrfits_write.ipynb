{
 "cells": [
  {
   "cell_type": "code",
   "execution_count": 5,
   "metadata": {
    "collapsed": false
   },
   "outputs": [],
   "source": [
    "import numpy as np\n",
    "\n",
    "import pdat"
   ]
  },
  {
   "cell_type": "markdown",
   "metadata": {},
   "source": [
    "## Instantiate a draft file from a template"
   ]
  },
  {
   "cell_type": "code",
   "execution_count": 10,
   "metadata": {
    "collapsed": true
   },
   "outputs": [],
   "source": [
    "template = '../../../templates/search_template.fits'\n",
    "new_psrfits = 'my_psrfits.fits'"
   ]
  },
  {
   "cell_type": "code",
   "execution_count": 11,
   "metadata": {
    "collapsed": false
   },
   "outputs": [
    {
     "name": "stdout",
     "output_type": "stream",
     "text": [
      "Making new SEARCH mode PSRFITS file using template from path:\n",
      "'../../../templates/search_template.fits'. \n",
      "Writing to path 'my_psrfits.fits'.\n",
      "The Binary Table HDU headers will be written as they are added\n",
      "\t to the PSRFITS file.\n"
     ]
    }
   ],
   "source": [
    "psrfits1=pdat.psrfits(new_psrfits,from_template=template)"
   ]
  },
  {
   "cell_type": "markdown",
   "metadata": {},
   "source": [
    "The `pdat` package is very helpful for making PSRFITS file from drafts. Many of the parameters in the `PRIMARY` and `SUBINT` HDUs are codependent on one another, and the program keeps track of these dependencies for the user. When you instantiate a `psrfits` with a template a set of draft headers is made from the template so that you can edit them before writing to disk. This \"template-to-write\" scheme exists because many pieces of software that will analyze `PSRFITS` will baulk at files without a complete set of header information. \n",
    "\n",
    "The template fits file is accessible as `fits_template`."
   ]
  },
  {
   "cell_type": "code",
   "execution_count": 24,
   "metadata": {
    "collapsed": true
   },
   "outputs": [],
   "source": [
    "def set_primary_header(psrfits_object,prim_dict):\n",
    "    \"\"\"\n",
    "    prim_dict = dictionary of primary header changes\n",
    "    \"\"\"\n",
    "    PF_obj = psrfits_object\n",
    "    for key in prim_dict.keys():\n",
    "        PF_obj.replace_FITS_Record('PRIMARY',key,prim_dict[key])\n",
    "        \n",
    "def set_subint_header(psrfits_object,subint_dict):\n",
    "    \"\"\"\n",
    "    prim_dict = dictionary of primary header changes\n",
    "    \"\"\"\n",
    "    PF_obj = psrfits_object\n",
    "    for key in subint_dict.keys():\n",
    "        PF_obj.replace_FITS_Record('SUBINT',key,subint_dict[key])"
   ]
  },
  {
   "cell_type": "code",
   "execution_count": 25,
   "metadata": {
    "collapsed": true
   },
   "outputs": [],
   "source": [
    "def make_subint_BinTable(self):\n",
    "    subint_draft = self.make_HDU_rec_array(self.nsubint, self.subint_dtype)\n",
    "    return subint_draft"
   ]
  },
  {
   "cell_type": "code",
   "execution_count": 18,
   "metadata": {
    "collapsed": false
   },
   "outputs": [
    {
     "data": {
      "text/plain": [
       "'GALILEOGALILEI'"
      ]
     },
     "execution_count": 18,
     "metadata": {},
     "output_type": "execute_result"
    }
   ],
   "source": [
    "psrfits1.fits_template[0].read_header()['OBSERVER']"
   ]
  },
  {
   "cell_type": "markdown",
   "metadata": {},
   "source": [
    "The draft headers are editable, and can be changed until you write the file to disk. The ImageHDU that conatins the primary header is names 'PRIMARY'. The others all go by the name of the `EXTNAME`. ['PRIMARY','SUBINT','POLYCO','HISTORY','PARAM']"
   ]
  },
  {
   "cell_type": "code",
   "execution_count": 28,
   "metadata": {
    "collapsed": false
   },
   "outputs": [
    {
     "data": {
      "text/plain": [
       "\n",
       "XTENSION= 'BINTABLE'           / ***** Subintegration data  *****\n",
       "BITPIX  =                    8 / N/A\n",
       "NAXIS   =                    2 / 2-dimensional binary table\n",
       "NAXIS1  =             33636428 / width of table in bytes\n",
       "NAXIS2  =                    4 / Number of rows in table (NSUBINT)\n",
       "PCOUNT  =                    0 / size of special data area\n",
       "GCOUNT  =                    1 / one data group (required keyword)\n",
       "TFIELDS =                   17 / Number of fields per row\n",
       "TTYPE1  = 'TSUBINT '           / Length of subintegration\n",
       "TFORM1  = '1D      '           / Double\n",
       "TTYPE2  = 'OFFS_SUB'           / Offset from Start of subint centre\n",
       "TFORM2  = '1D      '           / Double\n",
       "TTYPE3  = 'LST_SUB '           / LST at subint centre\n",
       "TFORM3  = '1D      '           / Double\n",
       "TTYPE4  = 'RA_SUB  '           / RA (J2000) at subint centre\n",
       "TFORM4  = '1D      '           / Double\n",
       "TTYPE5  = 'DEC_SUB '           / Dec (J2000) at subint centre\n",
       "TFORM5  = '1D      '           / Double\n",
       "TTYPE6  = 'GLON_SUB'           / [deg] Gal longitude at subint centre\n",
       "TFORM6  = '1D      '           / Double\n",
       "TTYPE7  = 'GLAT_SUB'           / [deg] Gal latitude at subint centre\n",
       "TFORM7  = '1D      '           / Double\n",
       "TTYPE8  = 'FD_ANG  '           / [deg] Feed angle at subint centre\n",
       "TFORM8  = '1E      '           / Float\n",
       "TTYPE9  = 'POS_ANG '           / [deg] Position angle of feed at subint centre\n",
       "TFORM9  = '1E      '           / Float\n",
       "TTYPE10 = 'PAR_ANG '           / [deg] Parallactic angle at subint centre\n",
       "TFORM10 = '1E      '           / Float\n",
       "TTYPE11 = 'TEL_AZ  '           / [deg] Telescope azimuth at subint centre\n",
       "TFORM11 = '1E      '           / Float\n",
       "TTYPE12 = 'TEL_ZEN '           / [deg] Telescope zenith angle at subint centre\n",
       "TFORM12 = '1E      '           / Float\n",
       "TTYPE13 = 'DAT_FREQ'           / [MHz] Centre frequency for each channel\n",
       "TFORM13 = '2048E   '           / NCHAN floats\n",
       "TTYPE14 = 'DAT_WTS '           / Weights for each channel\n",
       "TFORM14 = '2048E   '           / NCHAN floats\n",
       "TTYPE15 = 'DAT_OFFS'           / Data offset for each channel\n",
       "TFORM15 = '8192E   '           / NCHAN*NPOL floats\n",
       "TTYPE16 = 'DAT_SCL '           / Data scale factor for each channel\n",
       "TFORM16 = '8192E   '           / NCHAN*NPOL floats\n",
       "TTYPE17 = 'DATA    '           / Subint data table\n",
       "TFORM17 = '33554432B'          / NBIN*NCHAN*NPOL*NSBLK int, byte(B) or bit(X)\n",
       "INT_TYPE= 'TIME    '           / Time axis (TIME, BINPHSPERI, BINLNGASC, etc)\n",
       "INT_UNIT= 'SEC     '           / Unit of time axis (SEC, PHS (0-1), DEG)\n",
       "SCALE   = 'FluxDen '           / Intensity units (FluxDen/RefFlux/Jansky)\n",
       "NPOL    =                    4 / Nr of polarisations\n",
       "POL_TYPE= 'IQUV    '           / Polarisation identifier (e.g., AABBCRCI, AA+BB)\n",
       "TBIN    = 0.000770559999999999 / [s] Time per bin or sample\n",
       "NBIN    =                    1 / Nr of bins (PSR/CAL mode; else 1)\n",
       "NBIN_PRD=                    0 / Nr of bins/pulse period (for gated data)\n",
       "PHS_OFFS=                   0. / Phase offset of bin 0 for gated data\n",
       "NBITS   =                    8 / Nr of bits/datum (SEARCH mode 'X' data, else 1)\n",
       "NSUBOFFS=                    0 / Subint offset (Contiguous SEARCH-mode files)\n",
       "NCHAN   =                 2048 / Number of channels/sub-bands in this file\n",
       "CHAN_BW =            -0.390625 / [MHz] Channel/sub-band width\n",
       "NCHNOFFS=                    0 / Channel/sub-band offset for split files\n",
       "NSBLK   =                 4096 / Samples/row (SEARCH mode, else 1)\n",
       "EXTNAME = 'SUBINT  '           / name of this binary table extension\n",
       "TUNIT1  = 's       '           / Units of field\n",
       "TUNIT2  = 's       '           / Units of field\n",
       "TUNIT3  = 's       '           / Units of field\n",
       "TUNIT4  = 'deg     '           / Units of field\n",
       "TUNIT5  = 'deg     '           / Units of field\n",
       "TUNIT6  = 'deg     '           / Units of field\n",
       "TUNIT7  = 'deg     '           / Units of field\n",
       "TUNIT8  = 'deg     '           / Units of field\n",
       "TUNIT9  = 'deg     '           / Units of field\n",
       "TUNIT10 = 'deg     '           / Units of field\n",
       "TUNIT11 = 'deg     '           / Units of field\n",
       "TUNIT12 = 'deg     '           / Units of field\n",
       "TUNIT13 = 'MHz     '           / Units of field\n",
       "TDIM17  = '(1,2048,4,4096)'    / Dimensions (NBITS or NBIN,NCHAN,NPOL,NSBLK)\n",
       "TUNIT17 = 'Jy      '           / Units of subint data\n",
       "EXTVER  =                    1 / auto assigned by template parser"
      ]
     },
     "execution_count": 28,
     "metadata": {},
     "output_type": "execute_result"
    }
   ],
   "source": [
    "psrfits1.draft_hdrs['SUBINT']"
   ]
  },
  {
   "cell_type": "markdown",
   "metadata": {},
   "source": [
    "In order to set the dimensions of the data arrays within the SUBINT HDU there is a convenience function called `set_subint_dims`. By setting the dimensions using this function the dependencies on these dimensions, inclduing memory allocation, will be propagated through the headers correctly. \n",
    "\n",
    "First lets choose some dimensions for the data."
   ]
  },
  {
   "cell_type": "code",
   "execution_count": 24,
   "metadata": {
    "collapsed": false
   },
   "outputs": [
    {
     "name": "stdout",
     "output_type": "stream",
     "text": [
      "Total_time 1.258\n",
      "N_freq 128\n"
     ]
    }
   ],
   "source": [
    "sample_size = 20.48e-3 # in milliseconds\n",
    "ROWS = 30\n",
    "N_Time_Bins = 2048*ROWS \n",
    "Total_time = round(N_Time_Bins*sample_size)\n",
    "dt = Total_time/N_Time_Bins\n",
    "subband =1.5625 \n",
    "BW=200\n",
    "N_freq = int(BW/subband)\n",
    "Npols = 4\n",
    "print('Total_time',Total_time/1e3)\n",
    "print('N_freq',N_freq)"
   ]
  },
  {
   "cell_type": "markdown",
   "metadata": {},
   "source": [
    "And then call the `set_subint_dims` method. "
   ]
  },
  {
   "cell_type": "code",
   "execution_count": 20,
   "metadata": {
    "collapsed": false
   },
   "outputs": [],
   "source": [
    "psrfits1.set_subint_dims(nsblk=2048,nchan=N_freq,nsubint=ROWS,npol=Npols)"
   ]
  },
  {
   "cell_type": "markdown",
   "metadata": {},
   "source": [
    "Once we have set the `SUBINT` dimensions a `subint_dtype` list is made which we can then use to make a recarray to hold the data. Here `nsubint` is the same as above, and has been made an attribute."
   ]
  },
  {
   "cell_type": "code",
   "execution_count": 21,
   "metadata": {
    "collapsed": false
   },
   "outputs": [],
   "source": [
    "subint_draft = psrfits1.make_HDU_rec_array(psrfits1.nsubint, psrfits1.subint_dtype)"
   ]
  },
  {
   "cell_type": "markdown",
   "metadata": {},
   "source": [
    "All of the header cards can bet set by assigning them to the appropriate member of the draft header."
   ]
  },
  {
   "cell_type": "code",
   "execution_count": 29,
   "metadata": {
    "collapsed": true
   },
   "outputs": [],
   "source": [
    "npol = psrfits1.draft_hdrs['SUBINT']['NPOL']"
   ]
  },
  {
   "cell_type": "markdown",
   "metadata": {},
   "source": [
    "Here we set the time per subintegration (time length of an NSBLK) and the offsets, which are the times at the center of each subintegration from the beginning of the observation. "
   ]
  },
  {
   "cell_type": "code",
   "execution_count": 25,
   "metadata": {
    "collapsed": false
   },
   "outputs": [],
   "source": [
    "tsubint = data.shape[-1]*dt*1e-3 #in seconds\n",
    "offs_sub_init = tsubint/2\n",
    "offs_sub = np.zeros((ROWS))\n",
    "\n",
    "for jj in range(ROWS):\n",
    "    offs_sub[jj] = offs_sub_init + (jj * tsubint)"
   ]
  },
  {
   "cell_type": "markdown",
   "metadata": {},
   "source": [
    "Here we just use the values from the template file."
   ]
  },
  {
   "cell_type": "code",
   "execution_count": 27,
   "metadata": {
    "collapsed": true
   },
   "outputs": [],
   "source": [
    "lst_sub = psrfits1.fits_template[1]['LST_SUB'].read()[0]\n",
    "ra_sub = psrfits1.fits_template[1]['RA_SUB'].read()[0]\n",
    "dec_sub = psrfits1.fits_template[1]['DEC_SUB'].read()[0]\n",
    "glon_sub = psrfits1.fits_template[1]['GLON_SUB'].read()[0]\n",
    "glat_sub = psrfits1.fits_template[1]['GLAT_SUB'].read()[0]\n",
    "fd_ang = psrfits1.fits_template[1]['FD_ANG'].read()[0]\n",
    "pos_ang = psrfits1.fits_template[1]['POS_ANG'].read()[0]\n",
    "par_ang = psrfits1.fits_template[1]['PAR_ANG'].read()[0]\n",
    "tel_az = psrfits1.fits_template[1]['TEL_AZ'].read()[0]\n",
    "tel_zen = psrfits1.fits_template[1]['TEL_ZEN'].read()[0]\n",
    "\n",
    "ones = np.ones((ROWS))\n",
    "#And assign them using arrays of the appropriate sizes\n",
    "subint_draft['TSUBINT'] = tsubint * ones\n",
    "subint_draft['OFFS_SUB'] = offs_sub \n",
    "subint_draft['LST_SUB'] = lst_sub * ones\n",
    "subint_draft['RA_SUB'] = ra_sub * ones\n",
    "subint_draft['DEC_SUB'] = dec_sub * ones\n",
    "subint_draft['GLON_SUB'] = glon_sub * ones\n",
    "subint_draft['GLAT_SUB'] = glat_sub * ones\n",
    "subint_draft['FD_ANG'] = fd_ang * ones\n",
    "subint_draft['POS_ANG'] = pos_ang * ones\n",
    "subint_draft['PAR_ANG'] = par_ang * ones\n",
    "subint_draft['TEL_AZ'] = tel_az * ones\n",
    "subint_draft['TEL_ZEN'] = tel_zen * ones"
   ]
  },
  {
   "cell_type": "code",
   "execution_count": null,
   "metadata": {
    "collapsed": true
   },
   "outputs": [],
   "source": []
  },
  {
   "cell_type": "markdown",
   "metadata": {},
   "source": [
    "Here we'll just make some data of the correct shape."
   ]
  },
  {
   "cell_type": "code",
   "execution_count": null,
   "metadata": {
    "collapsed": true
   },
   "outputs": [],
   "source": [
    "data = np.random.randn(ROWS,1,N_freq,Npols,2048)"
   ]
  },
  {
   "cell_type": "markdown",
   "metadata": {},
   "source": [
    "And now we can assign the data arrays"
   ]
  },
  {
   "cell_type": "code",
   "execution_count": 30,
   "metadata": {
    "collapsed": false
   },
   "outputs": [],
   "source": [
    "for ii in range(subint_draft.size):\n",
    "    subint_draft[ii]['DATA'] = data[ii,:,:,:,:]\n",
    "    subint_draft[ii]['DAT_SCL'] = np.ones(N_freq*npol)\n",
    "    subint_draft[ii]['DAT_OFFS'] = np.zeros(N_freq*npol)\n",
    "    subint_draft[ii]['DAT_FREQ'] = np.linspace(1300,1500,N_freq)\n",
    "    subint_draft[ii]['DAT_WTS'] = np.ones(N_freq)"
   ]
  },
  {
   "cell_type": "code",
   "execution_count": 35,
   "metadata": {
    "collapsed": false
   },
   "outputs": [],
   "source": [
    "subint_hdr=psrfits1.draft_hdrs['SUBINT']"
   ]
  },
  {
   "cell_type": "code",
   "execution_count": 36,
   "metadata": {
    "collapsed": true
   },
   "outputs": [],
   "source": []
  },
  {
   "cell_type": "code",
   "execution_count": 37,
   "metadata": {
    "collapsed": false
   },
   "outputs": [
    {
     "data": {
      "text/plain": [
       "'0.00002047526041666666474943582498813299253015429712831974029541015625'"
      ]
     },
     "execution_count": 37,
     "metadata": {},
     "output_type": "execute_result"
    }
   ],
   "source": [
    "from decimal import *\n",
    "getcontext().prec=12\n",
    "a=Decimal(S1.TimeBinSize*1e-3)\n",
    "a.to_eng_string()"
   ]
  },
  {
   "cell_type": "code",
   "execution_count": 38,
   "metadata": {
    "collapsed": false
   },
   "outputs": [
    {
     "data": {
      "text/plain": [
       "'0.000020475260416667'"
      ]
     },
     "execution_count": 38,
     "metadata": {},
     "output_type": "execute_result"
    }
   ],
   "source": [
    "b='{0:1.18f}'.format(Decimal(a.to_eng_string()))\n",
    "b"
   ]
  },
  {
   "cell_type": "code",
   "execution_count": 39,
   "metadata": {
    "collapsed": true
   },
   "outputs": [],
   "source": [
    "pri_dic= {'OBSERVER':'GALILEOGALILEI','OBSFREQ':S1.f0,'OBSBW':S1.bw,'OBSNCHAN':S1.Nf}\n",
    "subint_dic = {'TBIN':b,'CHAN_BW':S1.freqBinSize}"
   ]
  },
  {
   "cell_type": "code",
   "execution_count": 40,
   "metadata": {
    "collapsed": false
   },
   "outputs": [
    {
     "data": {
      "text/plain": [
       "'0.000020475260416667'"
      ]
     },
     "execution_count": 40,
     "metadata": {},
     "output_type": "execute_result"
    }
   ],
   "source": [
    "subint_dic['TBIN']"
   ]
  },
  {
   "cell_type": "code",
   "execution_count": 41,
   "metadata": {
    "collapsed": false
   },
   "outputs": [
    {
     "data": {
      "text/plain": [
       "{'card_string': 'TBIN    = 0.000020475260416667 / [s] Time per bin or sample',\n",
       " 'class': 150,\n",
       " 'comment': '[s] Time per bin or sample',\n",
       " 'dtype': 'F',\n",
       " 'name': 'TBIN',\n",
       " 'value': 2.0475260416667e-05,\n",
       " 'value_orig': 2.0475260416667e-05}"
      ]
     },
     "execution_count": 41,
     "metadata": {},
     "output_type": "execute_result"
    }
   ],
   "source": [
    "psrfits1.make_FITS_card(subint_hdr,'TBIN',subint_dic['TBIN'])"
   ]
  },
  {
   "cell_type": "code",
   "execution_count": 42,
   "metadata": {
    "collapsed": false
   },
   "outputs": [
    {
     "data": {
      "text/plain": [
       "{'card_string': \"TUNIT8  = 'deg     '           / Units of field\",\n",
       " 'class': 70,\n",
       " 'comment': 'Units of field',\n",
       " 'dtype': 'C',\n",
       " 'name': 'TUNIT8',\n",
       " 'value': 'deg     ',\n",
       " 'value_orig': 'deg     '}"
      ]
     },
     "execution_count": 42,
     "metadata": {},
     "output_type": "execute_result"
    }
   ],
   "source": [
    "psrfits1.draft_hdrs['SUBINT'].records()[65]"
   ]
  },
  {
   "cell_type": "code",
   "execution_count": 43,
   "metadata": {
    "collapsed": false
   },
   "outputs": [],
   "source": [
    "set_primary_header(psrfits1,pri_dic)"
   ]
  },
  {
   "cell_type": "code",
   "execution_count": 44,
   "metadata": {
    "collapsed": true
   },
   "outputs": [],
   "source": [
    "set_subint_header(psrfits1,subint_dic)"
   ]
  },
  {
   "cell_type": "code",
   "execution_count": 45,
   "metadata": {
    "collapsed": false
   },
   "outputs": [
    {
     "data": {
      "text/plain": [
       "{'card_string': 'TBIN    = 0.000020475260416667 / [s] Time per bin or sample',\n",
       " 'class': 150,\n",
       " 'comment': '[s] Time per bin or sample',\n",
       " 'dtype': 'F',\n",
       " 'name': 'TBIN',\n",
       " 'value': '0.000020483398437500',\n",
       " 'value_orig': '0.000020483398437500'}"
      ]
     },
     "execution_count": 45,
     "metadata": {},
     "output_type": "execute_result"
    }
   ],
   "source": [
    "psrfits1.draft_hdrs['SUBINT'].records()[47]['value'] = '0.000020483398437500'\n",
    "psrfits1.draft_hdrs['SUBINT'].records()[47]['value_orig'] = '0.000020483398437500'\n",
    "psrfits1.draft_hdrs['SUBINT'].records()[47]"
   ]
  },
  {
   "cell_type": "code",
   "execution_count": 46,
   "metadata": {
    "collapsed": false
   },
   "outputs": [],
   "source": [
    "psrfits1.HDU_drafts['SUBINT'] = subint_draft"
   ]
  },
  {
   "cell_type": "code",
   "execution_count": 47,
   "metadata": {
    "collapsed": false
   },
   "outputs": [],
   "source": [
    "psrfits1.write_psrfits()"
   ]
  },
  {
   "cell_type": "code",
   "execution_count": 48,
   "metadata": {
    "collapsed": false
   },
   "outputs": [
    {
     "name": "stdout",
     "output_type": "stream",
     "text": [
      "\n"
     ]
    }
   ],
   "source": [
    "psrfits1.close()"
   ]
  }
 ],
 "metadata": {
  "anaconda-cloud": {},
  "kernelspec": {
   "display_name": "Python [conda root]",
   "language": "python",
   "name": "conda-root-py"
  },
  "language_info": {
   "codemirror_mode": {
    "name": "ipython",
    "version": 3
   },
   "file_extension": ".py",
   "mimetype": "text/x-python",
   "name": "python",
   "nbconvert_exporter": "python",
   "pygments_lexer": "ipython3",
   "version": "3.5.2"
  }
 },
 "nbformat": 4,
 "nbformat_minor": 2
}
