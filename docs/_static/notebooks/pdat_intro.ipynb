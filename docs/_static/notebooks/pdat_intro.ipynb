{
 "cells": [
  {
   "cell_type": "markdown",
   "metadata": {},
   "source": [
    "# Pulsar Data Toolbox: \n",
    "## `psrfits` class\n",
    "The `psrfits` class allows easy access to the specialized FITS files used in the Pulsar/Radio  Astronomy community know as PSRFITS files. The standard can be found on the [CSIRO Pulsar Group website](http://www.atnf.csiro.au/people/pulsar/index.html?n=Main.Psrfits). In the current version of `pdat` this class is based on the Python package `fitsio` which is a wrapper for the c-library `cfitsio`. In the future we plan to also make a version that uses the `astropy.io.fits` package, however the `c` library is fast, efficient, allows appending and accessing of BinTables without loading the whole file to memory. Since PSRFITS files carry large BinTables these types of efficiencies are very useful."
   ]
  },
  {
   "cell_type": "markdown",
   "metadata": {},
   "source": [
    "## Loading and Appending"
   ]
  },
  {
   "cell_type": "code",
   "execution_count": 1,
   "metadata": {
    "collapsed": true
   },
   "outputs": [],
   "source": [
    "import pdat\n",
    "import os"
   ]
  },
  {
   "cell_type": "code",
   "execution_count": 3,
   "metadata": {
    "collapsed": false
   },
   "outputs": [],
   "source": [
    "pFits1 = '../../../templates/search_scratch.fits'\n",
    "pFits2 = '../../../templates/search_template.fits'"
   ]
  },
  {
   "cell_type": "markdown",
   "metadata": {},
   "source": [
    "## Check file sizes"
   ]
  },
  {
   "cell_type": "code",
   "execution_count": 4,
   "metadata": {
    "collapsed": false
   },
   "outputs": [
    {
     "name": "stdout",
     "output_type": "stream",
     "text": [
      "Size of 1st file: 5302080\n",
      "Size of 2nd file: 5302080\n"
     ]
    }
   ],
   "source": [
    "a=os.path.getsize(pFits1)\n",
    "b=os.path.getsize(pFits2)\n",
    "print('Size of 1st file:',a)\n",
    "print('Size of 2nd file:',b)"
   ]
  },
  {
   "cell_type": "markdown",
   "metadata": {},
   "source": [
    "## Load files"
   ]
  },
  {
   "cell_type": "code",
   "execution_count": 5,
   "metadata": {
    "collapsed": false
   },
   "outputs": [
    {
     "name": "stdout",
     "output_type": "stream",
     "text": [
      "Loading PSRFITS file from path:\n",
      "'../../../templates/search_scratch.fits'.\n"
     ]
    }
   ],
   "source": [
    "psrf1 = pdat.psrfits(pFits1)"
   ]
  },
  {
   "cell_type": "markdown",
   "metadata": {},
   "source": [
    "## Append the Secondary BinTables to an existing PSRFITS \n",
    "The `append_from_file` method appends all of the secondary BinTables of a PSRFITS, given as a file path, to the already loaded PSRFITS. The secondary BinTables include `SUBINT`,`POLYCO`, `HISTORY` and `PARAM`. This is only possible between identical `mode` files (`SEARCH`, `PSR` or `CAL`). By default the order of the tables is assumed identical. If the BinTables are in different orders there is an optional `table` flag to provide a list of the order of the original BinTables. Alternatively, you may only select a subset of BinTables to append. "
   ]
  },
  {
   "cell_type": "code",
   "execution_count": 6,
   "metadata": {
    "collapsed": false
   },
   "outputs": [],
   "source": [
    "psrf1.append_from_file(pFits2)"
   ]
  },
  {
   "cell_type": "code",
   "execution_count": 7,
   "metadata": {
    "collapsed": false
   },
   "outputs": [
    {
     "data": {
      "text/plain": [
       "5302080"
      ]
     },
     "execution_count": 7,
     "metadata": {},
     "output_type": "execute_result"
    }
   ],
   "source": [
    "os.path.getsize(pFits1)"
   ]
  },
  {
   "cell_type": "markdown",
   "metadata": {},
   "source": [
    "Checking the size we see it has grown, but not doubled. That is because the `PRIMARY` header was not changed. \n",
    "\n",
    "The `psrfits` class comes with all of the functionality built into `fitsio`. The class represents a list of HDUs. The header information is accesible through the `read_header` method."
   ]
  },
  {
   "cell_type": "code",
   "execution_count": 8,
   "metadata": {
    "collapsed": false
   },
   "outputs": [
    {
     "data": {
      "text/plain": [
       "\n",
       "XTENSION= 'BINTABLE'           / ***** Subintegration data  *****\n",
       "BITPIX  =                    8 / N/A\n",
       "NAXIS   =                    2 / 2-dimensional binary table\n",
       "NAXIS1  =               264268 / width of table in bytes\n",
       "NAXIS2  =                   20 / Number of rows in table (NSUBINT)\n",
       "PCOUNT  =                    0 / size of special data area\n",
       "GCOUNT  =                    1 / one data group (required keyword)\n",
       "TFIELDS =                   17 / Number of fields per row\n",
       "TTYPE1  = 'TSUBINT '           / Length of subintegration\n",
       "TFORM1  = '1D      '           / Double\n",
       "TTYPE2  = 'OFFS_SUB'           / Offset from Start of subint centre\n",
       "TFORM2  = '1D      '           / Double\n",
       "TTYPE3  = 'LST_SUB '           / LST at subint centre\n",
       "TFORM3  = '1D      '           / Double\n",
       "TTYPE4  = 'RA_SUB  '           / RA (J2000) at subint centre\n",
       "TFORM4  = '1D      '           / Double\n",
       "TTYPE5  = 'DEC_SUB '           / Dec (J2000) at subint centre\n",
       "TFORM5  = '1D      '           / Double\n",
       "TTYPE6  = 'GLON_SUB'           / [deg] Gal longitude at subint centre\n",
       "TFORM6  = '1D      '           / Double\n",
       "TTYPE7  = 'GLAT_SUB'           / [deg] Gal latitude at subint centre\n",
       "TFORM7  = '1D      '           / Double\n",
       "TTYPE8  = 'FD_ANG  '           / [deg] Feed angle at subint centre\n",
       "TFORM8  = '1E      '           / Float\n",
       "TTYPE9  = 'POS_ANG '           / [deg] Position angle of feed at subint centre\n",
       "TFORM9  = '1E      '           / Float\n",
       "TTYPE10 = 'PAR_ANG '           / [deg] Parallactic angle at subint centre\n",
       "TFORM10 = '1E      '           / Float\n",
       "TTYPE11 = 'TEL_AZ  '           / [deg] Telescope azimuth at subint centre\n",
       "TFORM11 = '1E      '           / Float\n",
       "TTYPE12 = 'TEL_ZEN '           / [deg] Telescope zenith angle at subint centre\n",
       "TFORM12 = '1E      '           / Float\n",
       "TTYPE13 = 'DAT_FREQ'           / [MHz] Centre frequency for each channel\n",
       "TFORM13 = '    128E'           / NCHAN floats\n",
       "TTYPE14 = 'DAT_WTS '           / Weights for each channel\n",
       "TFORM14 = '    128E'           / NCHAN floats\n",
       "TTYPE15 = 'DAT_OFFS'           / Data offset for each channel\n",
       "TFORM15 = '    128E'           / NCHAN*NPOL floats\n",
       "TTYPE16 = 'DAT_SCL '           / Data scale factor for each channel\n",
       "TFORM16 = '    128E'           / NCHAN*NPOL floats\n",
       "TTYPE17 = 'DATA    '           / Subint data table\n",
       "TFORM17 = '  262144B'          / NBIN*NCHAN*NPOL*NSBLK int, byte(B) or bit(X)\n",
       "TDIM17  = '(1, 128, 1, 2048)'  / Dimensions (NBITS or NBIN,NCHAN,NPOL,NSBLK)\n",
       "INT_TYPE= 'TIME    '           / Time axis (TIME, BINPHSPERI, BINLNGASC, etc)\n",
       "INT_UNIT= 'SEC     '           / Unit of time axis (SEC, PHS (0-1), DEG)\n",
       "SCALE   = 'FluxDen '           / Intensity units (FluxDen/RefFlux/Jansky)\n",
       "NPOL    =                    1 / Nr of polarisations\n",
       "POL_TYPE= 'IQUV    '           / Polarisation identifier (e.g., AABBCRCI, AA+BB)\n",
       "TBIN    =    2.04833984375E-05 / [s] Time per bin or sample\n",
       "NBIN    =                    1 / Nr of bins (PSR/CAL mode; else 1)\n",
       "NBIN_PRD=                    0 / Nr of bins/pulse period (for gated data)\n",
       "PHS_OFFS=                   0. / Phase offset of bin 0 for gated data\n",
       "NBITS   =                    8 / Nr of bits/datum (SEARCH mode 'X' data, else 1)\n",
       "NSUBOFFS=                    0 / Subint offset (Contiguous SEARCH-mode files)\n",
       "NCHAN   =                  128 / Number of channels/sub-bands in this file\n",
       "CHAN_BW =               1.5625 / [MHz] Channel/sub-band width\n",
       "NCHNOFFS=                    0 / Channel/sub-band offset for split files\n",
       "NSBLK   =                 2048 / Samples/row (SEARCH mode, else 1)\n",
       "EXTNAME = 'SUBINT  '           / name of this binary table extension\n",
       "TUNIT1  = 's       '           / Units of field\n",
       "TUNIT2  = 's       '           / Units of field\n",
       "TUNIT3  = 's       '           / Units of field\n",
       "TUNIT4  = 'deg     '           / Units of field\n",
       "TUNIT5  = 'deg     '           / Units of field\n",
       "TUNIT6  = 'deg     '           / Units of field\n",
       "TUNIT7  = 'deg     '           / Units of field\n",
       "TUNIT8  = 'deg     '           / Units of field\n",
       "TUNIT9  = 'deg     '           / Units of field\n",
       "TUNIT10 = 'deg     '           / Units of field\n",
       "TUNIT11 = 'deg     '           / Units of field\n",
       "TUNIT12 = 'deg     '           / Units of field\n",
       "TUNIT13 = 'MHz     '           / Units of field\n",
       "TUNIT17 = 'Jy      '           / Units of subint data\n",
       "EXTVER  =                    1 / auto assigned by template parser"
      ]
     },
     "execution_count": 8,
     "metadata": {},
     "output_type": "execute_result"
    }
   ],
   "source": [
    "psrf1[1].read_header()"
   ]
  },
  {
   "cell_type": "markdown",
   "metadata": {},
   "source": [
    "The data in a `PSRFITS` is found in the `SUBINT` BinTable. "
   ]
  },
  {
   "cell_type": "code",
   "execution_count": 9,
   "metadata": {
    "collapsed": false
   },
   "outputs": [
    {
     "data": {
      "text/plain": [
       "\n",
       "  file: ../../../templates/search_scratch.fits\n",
       "  mode: READWRITE\n",
       "  extnum hdutype         hduname[v]\n",
       "  0      IMAGE_HDU       \n",
       "  1      BINARY_TBL      SUBINT[1]"
      ]
     },
     "execution_count": 9,
     "metadata": {},
     "output_type": "execute_result"
    }
   ],
   "source": [
    "psrf1"
   ]
  },
  {
   "cell_type": "markdown",
   "metadata": {},
   "source": [
    "Here `SUBINT` is the 2nd HDU. The data is accesible as a `numpy.recarray` with `NSUBINT` rows. Think of a recarray as a spreadsheet where the individual entries can be strings, floats or whole arrays."
   ]
  },
  {
   "cell_type": "code",
   "execution_count": 15,
   "metadata": {
    "collapsed": false
   },
   "outputs": [
    {
     "name": "stdout",
     "output_type": "stream",
     "text": [
      "(20,)\n"
     ]
    },
    {
     "data": {
      "text/plain": [
       "[('TSUBINT', '>f8'),\n",
       " ('OFFS_SUB', '>f8'),\n",
       " ('LST_SUB', '>f8'),\n",
       " ('RA_SUB', '>f8'),\n",
       " ('DEC_SUB', '>f8'),\n",
       " ('GLON_SUB', '>f8'),\n",
       " ('GLAT_SUB', '>f8'),\n",
       " ('FD_ANG', '>f4'),\n",
       " ('POS_ANG', '>f4'),\n",
       " ('PAR_ANG', '>f4'),\n",
       " ('TEL_AZ', '>f4'),\n",
       " ('TEL_ZEN', '>f4'),\n",
       " ('DAT_FREQ', '>f4', (128,)),\n",
       " ('DAT_WTS', '>f4', (128,)),\n",
       " ('DAT_OFFS', '>f4', (128,)),\n",
       " ('DAT_SCL', '>f4', (128,)),\n",
       " ('DATA', '|u1', (2048, 1, 128, 1))]"
      ]
     },
     "execution_count": 15,
     "metadata": {},
     "output_type": "execute_result"
    }
   ],
   "source": [
    "data=psrf1[1].read()\n",
    "print(data.shape)\n",
    "data.dtype.descr"
   ]
  },
  {
   "cell_type": "markdown",
   "metadata": {},
   "source": [
    "While the `DATA` array above is 4 dimensional (this is the case in `SEARCH` files, it is 3 dimensional in `PSR` and `CAL` files). However there are `NSUBINT` of those arrays. To access the data one uses the name of the column, `DATA`, then a single entry square bracket denoting the row. This gives one of the `NSUBINT` arrays in the BinTable. "
   ]
  },
  {
   "cell_type": "code",
   "execution_count": 18,
   "metadata": {
    "collapsed": false
   },
   "outputs": [
    {
     "data": {
      "text/plain": [
       "(2048, 1, 128, 1)"
      ]
     },
     "execution_count": 18,
     "metadata": {},
     "output_type": "execute_result"
    }
   ],
   "source": [
    "data['DATA'][0].shape"
   ]
  },
  {
   "cell_type": "markdown",
   "metadata": {},
   "source": [
    "This object is then a normal numpy array that can be accessed with numpy array slice notation. Access a single entry by choosing four integers in the range of dimensions. "
   ]
  },
  {
   "cell_type": "code",
   "execution_count": 20,
   "metadata": {
    "collapsed": false
   },
   "outputs": [
    {
     "data": {
      "text/plain": [
       "7"
      ]
     },
     "execution_count": 20,
     "metadata": {},
     "output_type": "execute_result"
    }
   ],
   "source": [
    "data['DATA'][0][1000,0,3,0]"
   ]
  },
  {
   "cell_type": "markdown",
   "metadata": {},
   "source": [
    "Other arrays are accessed similarly, but without as many indices. There are `NSUBINT` rows of 1-dimensional arrays for each of the `DAT_X` parameters and `NSUBINT` floats of the other entries."
   ]
  },
  {
   "cell_type": "code",
   "execution_count": 25,
   "metadata": {
    "collapsed": false
   },
   "outputs": [
    {
     "name": "stdout",
     "output_type": "stream",
     "text": [
      "(20, 128)\n"
     ]
    },
    {
     "data": {
      "text/plain": [
       "array([ 0.,  0.,  0.,  0.,  0.,  0.,  0.,  0.,  0.,  0.,  0.,  0.,  0.,\n",
       "        0.,  0.,  0.,  0.,  0.,  0.,  0.,  0.,  0.,  0.,  0.,  0.,  0.,\n",
       "        0.,  0.,  0.,  0.,  0.,  0.,  0.,  0.,  0.,  0.,  0.,  0.,  0.,\n",
       "        0.,  0.,  0.,  0.,  0.,  0.,  0.,  0.,  0.,  0.,  0.,  0.,  0.,\n",
       "        0.,  0.,  0.,  0.,  0.,  0.,  0.,  0.,  0.,  0.,  0.,  0.,  0.,\n",
       "        0.,  0.,  0.,  0.,  0.,  0.,  0.,  0.,  0.,  0.,  0.,  0.,  0.,\n",
       "        0.,  0.,  0.,  0.,  0.,  0.,  0.,  0.,  0.,  0.,  0.,  0.,  0.,\n",
       "        0.,  0.,  0.,  0.,  0.,  0.,  0.,  0.,  0.,  0.,  0.,  0.,  0.,\n",
       "        0.,  0.,  0.,  0.,  0.,  0.,  0.,  0.,  0.,  0.,  0.,  0.,  0.,\n",
       "        0.,  0.,  0.,  0.,  0.,  0.,  0.,  0.,  0.,  0.,  0.], dtype=float32)"
      ]
     },
     "execution_count": 25,
     "metadata": {},
     "output_type": "execute_result"
    }
   ],
   "source": [
    "print(data['DAT_OFFS'].shape)\n",
    "data['DAT_OFFS'][2]"
   ]
  },
  {
   "cell_type": "code",
   "execution_count": 26,
   "metadata": {
    "collapsed": false
   },
   "outputs": [
    {
     "name": "stdout",
     "output_type": "stream",
     "text": [
      "(20,)\n"
     ]
    },
    {
     "data": {
      "text/plain": [
       "97.721010667684681"
      ]
     },
     "execution_count": 26,
     "metadata": {},
     "output_type": "execute_result"
    }
   ],
   "source": [
    "print(data['GLON_SUB'].shape)\n",
    "data['GLON_SUB'][2]"
   ]
  },
  {
   "cell_type": "markdown",
   "metadata": {},
   "source": [
    "One can clear the file from memory using the `close` method."
   ]
  },
  {
   "cell_type": "code",
   "execution_count": 27,
   "metadata": {
    "collapsed": false
   },
   "outputs": [
    {
     "name": "stdout",
     "output_type": "stream",
     "text": [
      "\n"
     ]
    }
   ],
   "source": [
    "psrf1.close()"
   ]
  },
  {
   "cell_type": "markdown",
   "metadata": {},
   "source": [
    "## `PSR` and `CAL` files\n",
    "\n",
    "The PSRFITS standard actually has many BinTable extensions, and many files come with more than two HDUs. The `psrfits` class will generically build a Python version of any of these file types. In this package there are three template types, corresponding to the three most common file types used by the NANOGrav Pulsar Timing array. If you would like another template included please start an issue on our GitHub page. \n",
    "\n",
    "A `PSR` mode file is data from an observation where the data is folded at the frequency of the pulsar to build up signal-to-noise ratio in real time. A `CAL` file has the same set of HDUs but is not folded. It is data take of a calibration source. Here we access the `PSR` template file and look at a different BinTable extension. "
   ]
  },
  {
   "cell_type": "code",
   "execution_count": 28,
   "metadata": {
    "collapsed": false
   },
   "outputs": [
    {
     "name": "stdout",
     "output_type": "stream",
     "text": [
      "Loading PSRFITS file from path:\n",
      "'/Users/jeffrey/PSS/guppi_57691_J1909-3744_0004_0001.fits'.\n"
     ]
    }
   ],
   "source": [
    "pFits3 = '../../../templates/psr_template.fits'\n",
    "psrf2 = pdat.psrfits(pFits3)"
   ]
  },
  {
   "cell_type": "code",
   "execution_count": 29,
   "metadata": {
    "collapsed": false
   },
   "outputs": [
    {
     "data": {
      "text/plain": [
       "\n",
       "  file: /Users/jeffrey/PSS/guppi_57691_J1909-3744_0004_0001.fits\n",
       "  mode: READWRITE\n",
       "  extnum hdutype         hduname[v]\n",
       "  0      IMAGE_HDU       \n",
       "  1      BINARY_TBL      HISTORY[1]\n",
       "  2      BINARY_TBL      PSRPARAM[1]\n",
       "  3      BINARY_TBL      POLYCO[1]\n",
       "  4      BINARY_TBL      SUBINT[1]"
      ]
     },
     "execution_count": 29,
     "metadata": {},
     "output_type": "execute_result"
    }
   ],
   "source": [
    "psrf2"
   ]
  },
  {
   "cell_type": "code",
   "execution_count": 39,
   "metadata": {
    "collapsed": false
   },
   "outputs": [
    {
     "data": {
      "text/plain": [
       "\n",
       "XTENSION= 'BINTABLE'           / ***** Polyco history *****\n",
       "BITPIX  =                    8 / N/A\n",
       "NAXIS   =                    2 / 2-dimensional binary table\n",
       "NAXIS1  =                  222 / width of table in bytes\n",
       "NAXIS2  =                    1 / number of rows in table\n",
       "PCOUNT  =                    0 / size of special data area\n",
       "GCOUNT  =                    1 / one data group (required keyword)\n",
       "TFIELDS =                   13 / Number of fields per row\n",
       "TTYPE1  = 'DATE_PRO'           / Polyco creation date and time (UTC)\n",
       "TFORM1  = '24A     '           / 24-char string\n",
       "TTYPE2  = 'POLYVER '           / Polyco version ID\n",
       "TFORM2  = '16A     '           / 16-char string\n",
       "TTYPE3  = 'NSPAN   '           / Span of polyco block in min\n",
       "TFORM3  = '1I      '           / Integer\n",
       "TTYPE4  = 'NCOEF   '           / Nr of coefficients (<=15)\n",
       "TFORM4  = '1I      '           / Integer\n",
       "TTYPE5  = 'NPBLK   '           / Nr of blocks (rows) for this polyco\n",
       "TFORM5  = '1I      '           / Integer\n",
       "TTYPE6  = 'NSITE   '           / Observatory code\n",
       "TFORM6  = '8A      '           / 8-char string\n",
       "TTYPE7  = 'REF_FREQ'           / Reference frequency for phase\n",
       "TFORM7  = '1D      '           / Double\n",
       "TTYPE8  = 'PRED_PHS'           / Predicted pulse phase at observation start\n",
       "TFORM8  = '1D      '           / Double\n",
       "TTYPE9  = 'REF_MJD '           / Reference MJD\n",
       "TFORM9  = '1D      '           / Double\n",
       "TTYPE10 = 'REF_PHS '           / Reference phase\n",
       "TFORM10 = '1D      '           / Double\n",
       "TTYPE11 = 'REF_F0  '           / Zero-order pulsar frequency\n",
       "TFORM11 = '1D      '           / Double\n",
       "TTYPE12 = 'LGFITERR'           / Log_10 of polynomial fit rms error in periods\n",
       "TFORM12 = '1D      '           / Double\n",
       "TTYPE13 = 'COEFF   '           / Polyco coefficients\n",
       "TFORM13 = '15D     '           / NCOEF doubles\n",
       "EXTNAME = 'POLYCO  '           / name of this binary table extension\n",
       "TUNIT7  = 'MHz     '           / Units of field\n",
       "TUNIT11 = 'Hz      '           / Units of field\n",
       "EXTVER  =                    1 / auto assigned by template parser"
      ]
     },
     "execution_count": 39,
     "metadata": {},
     "output_type": "execute_result"
    }
   ],
   "source": [
    "psrf2[3].read_header()"
   ]
  },
  {
   "cell_type": "code",
   "execution_count": 43,
   "metadata": {
    "collapsed": false
   },
   "outputs": [
    {
     "data": {
      "text/plain": [
       "array([[  6.37061369e-07,  -3.84007940e-01,   1.63071384e-03,\n",
       "         -1.91944367e-06,   1.07255013e-09,   6.72218368e-12,\n",
       "         -8.60574070e-12,   1.25507648e-13,   1.71341258e-14,\n",
       "         -2.97308173e-16,  -1.79229301e-17,   2.50414099e-19,\n",
       "          9.50130849e-21,  -7.26854989e-23,  -2.02121757e-24]])"
      ]
     },
     "execution_count": 43,
     "metadata": {},
     "output_type": "execute_result"
    }
   ],
   "source": [
    "psrf2[3]['COEFF'][:]"
   ]
  },
  {
   "cell_type": "code",
   "execution_count": 44,
   "metadata": {
    "collapsed": false
   },
   "outputs": [
    {
     "data": {
      "text/plain": [
       "array([ b'PSRJ              1909-3744                                                                                                     ',\n",
       "       b'RAJ               19:09:47.4380095699897                                                                                        ',\n",
       "       b'DECJ             -37:44:14.3162347000103                                                                                        ',\n",
       "       b'PEPOCH            53000.0000000000000000                                                                                        ',\n",
       "       b'F                 3.3931569275871846D+02                                                                                        ',\n",
       "       b'F1               -1.6150815823660001D+00                                                                                        ',\n",
       "       b'PMDEC            -3.6776299999999999D+01                                                                                        ',\n",
       "       b'PMRA             -9.5500000000000007D+00                                                                                        ',\n",
       "       b'POSEPOCH          53000.0000000000000000                                                                                        ',\n",
       "       b'PX                1.3517999999999999D+00                                                                                        ',\n",
       "       b'DM                1.0394679999999999D+01                                                                                        ',\n",
       "       b'START             53219.2149999999965075                                                                                        ',\n",
       "       b'FINISH            54614.2710000000006403                                                                                        ',\n",
       "       b'CLK               UTC(NIST)                                                                                                     ',\n",
       "       b'EPHEM             DE405                                                                                                         ',\n",
       "       b'TZRMJD            53293.02028990324198077                                                                                       ',\n",
       "       b'TZRFRQ            8.4256500000000005D+02                                                                                        ',\n",
       "       b'TZRSITE           1                                                                                                             ',\n",
       "       b'BINARY            ELL1                                                                                                          ',\n",
       "       b'A1                1.8979909859999999D+00                                                                                        ',\n",
       "       b'PB                1.5334494510779999D+00                                                                                        ',\n",
       "       b'SINI              9.9727800000000000D-01                                                                                        ',\n",
       "       b'M2                2.2327900000000001D-01                                                                                        ',\n",
       "       b'EPS1              3.7300000000000003D-08                                                                                        ',\n",
       "       b'EPS2              1.1340000000000000D-07                                                                                        ',\n",
       "       b'TASC              53113.9505872139998246                                                                                        ',\n",
       "       b'TRES              4.2999999999999999D-01                                                                                        ',\n",
       "       b'NTOA              746                                                                                                           '],\n",
       "      dtype='|S128')"
      ]
     },
     "execution_count": 44,
     "metadata": {},
     "output_type": "execute_result"
    }
   ],
   "source": [
    "psrf2[2]['PARAM'][:]"
   ]
  },
  {
   "cell_type": "markdown",
   "metadata": {
    "collapsed": true
   },
   "source": [
    "## Glossary:\n",
    "__BinTable__: A table of binary data. \n",
    "\n",
    "__HDU__: Header Unit. The main division of a FITS file.\n",
    "\n",
    "__ImageHDU__: An HDU that either holds a 2-d data array, usually represnting an image, of the primary HDU, acting as the main header file for the FITS file.\n",
    "\n",
    "__SUBINT HDU__: The BinTable extension (HDU) that holds the data from a pulsar/radio observation. In a `PSR` (folded) mode PSRFITS file these are actually subintegrations of folded pulsar data.\n",
    "\n",
    "__HISTORY HDU__: The BinTable extension (HDU) that has some information about the history of the observation and what may have been done to the data in the file. \n",
    "\n",
    "__FITS Card__: The header information in FITS files is held in a FITS card. In Python these are usually held as dictionary-type variables. There is a `card string` which hold the information that appears when you call the header. One of the dictionary entries is the actual value called when accesing the data.\n",
    "\n",
    "__POLYCO HDU__: The BinTable extension (HDU) that has a list of the Chebyshev polynomial coefficients used for a short timescale timing model when using the backend of a telescope in 'PSR' (folding) mode. \n",
    "\n",
    "__PARAM HDU__: The BinTable extensino (HDU) that hols the parameters of the pulsar. Most often these are text lines taken from a `.par` (parameter) file. "
   ]
  },
  {
   "cell_type": "code",
   "execution_count": null,
   "metadata": {
    "collapsed": true
   },
   "outputs": [],
   "source": []
  }
 ],
 "metadata": {
  "anaconda-cloud": {},
  "kernelspec": {
   "display_name": "Python [conda root]",
   "language": "python",
   "name": "conda-root-py"
  },
  "language_info": {
   "codemirror_mode": {
    "name": "ipython",
    "version": 3
   },
   "file_extension": ".py",
   "mimetype": "text/x-python",
   "name": "python",
   "nbconvert_exporter": "python",
   "pygments_lexer": "ipython3",
   "version": "3.5.2"
  }
 },
 "nbformat": 4,
 "nbformat_minor": 1
}
